{
 "cells": [
  {
   "cell_type": "code",
   "execution_count": 1,
   "metadata": {},
   "outputs": [],
   "source": [
    "import json\n",
    "from nltk.tokenize import sent_tokenize"
   ]
  },
  {
   "cell_type": "code",
   "execution_count": 2,
   "metadata": {},
   "outputs": [],
   "source": [
    "papers = []\n",
    "for line in open('json_file', 'r'):\n",
    "    papers.append(json.loads(line))"
   ]
  },
  {
   "cell_type": "code",
   "execution_count": 9,
   "metadata": {},
   "outputs": [],
   "source": [
    "with open('subcorpus.txt', 'w') as filehandle:\n",
    "    for i,paper in enumerate(papers):\n",
    "        text = \"\"\n",
    "        if len(paper[\"abstract\"]) != 0:\n",
    "                for abst in paper[\"abstract\"]:\n",
    "                    text += abst[\"text\"]\n",
    "\n",
    "        for sect in paper[\"body_text\"]:\n",
    "            text += sect[\"text\"]\n",
    "        \n",
    "        for ref in paper[\"bib_entries\"].keys():\n",
    "            text += paper[\"bib_entries\"][ref][\"title\"] + \". \"\n",
    "            \n",
    "        text = text.lower()\n",
    "        list_of_sentences = sent_tokenize(text)\n",
    "        if len(list_of_sentences) == 0:\n",
    "            continue\n",
    "        for listitem in list_of_sentences:\n",
    "            filehandle.write('%s\\n' % listitem)\n",
    "        filehandle.write(\"\\n\")"
   ]
  }
 ],
 "metadata": {
  "kernelspec": {
   "display_name": "Python 3",
   "language": "python",
   "name": "python3"
  },
  "language_info": {
   "codemirror_mode": {
    "name": "ipython",
    "version": 3
   },
   "file_extension": ".py",
   "mimetype": "text/x-python",
   "name": "python",
   "nbconvert_exporter": "python",
   "pygments_lexer": "ipython3",
   "version": "3.7.7"
  }
 },
 "nbformat": 4,
 "nbformat_minor": 4
}
